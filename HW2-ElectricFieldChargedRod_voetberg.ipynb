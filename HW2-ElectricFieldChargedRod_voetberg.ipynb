{
 "cells": [
  {
   "cell_type": "markdown",
   "metadata": {},
   "source": [
    "# Solving electric field problems numerically\n",
    "\n",
    "One type of problem you will encounter in electrostatics is one where you know the distribution of charge at every point in space (or every point where the sources exist) and you need to determine the electric field everywhere in space (or everywhere you are interested). This can be done using Coulomb's law,\n",
    "\n",
    "$$ \\vec{E} = \\int_V d\\tau\\;\\dfrac{1}{4\\pi\\varepsilon_0}\\dfrac{dq}{|\\mathfrak{\\vec{r}}|^2}\\hat{\\mathfrak{r}}$$\n",
    "\n",
    "This calculation might be difficult to perform for all locations that you are interested in, or it might be downright impossible to solve analytical as no anti-derivative might exist for the function. In this case, using numerical techniques makes the problem tractable.\n",
    "\n",
    "## The concept of numerical integration \n",
    "\n",
    "Typically, when you perform an integral analytically, you are seeking the anti-derivative of the function that you are integrating. This is one productive way to think about an integral. \n",
    "\n",
    "Another productive way to think about integration is adding up small bits. You might think about this when you do a line integral, but this can also be a productive way of thinking about any kind of integral, in particular, numerical integration. To conceptualize a numerical integral where you are trying to determine the electric field it is important to follow these steps:\n",
    "\n",
    "1. Divide the source into chunks ($dq$) and pick a starting chunk\n",
    "2. Determine the separation vector ($\\vec{\\mathfrak{r}}$) between the chunk and the observation location\n",
    "3. Compute the contribution to the total electric field from the chunk ($d\\vec{E}$) - treating it as a point charge of size $dq$\n",
    "4. Add this contribution to the \"running\" total of electric field\n",
    "5. Repeat steps 2-5, which form the basis of numerical integration (it's the superposition of the chunks), until you have added up the contributions of all the chunks\n",
    "\n",
    "In this problem, you will calculate the electric field of line charge numerically (first) at a point along the middle. We do this because you know the analytical function (and thus the value) that describes the electric field at this point, which allows you to check your answer."
   ]
  },
  {
   "cell_type": "markdown",
   "metadata": {},
   "source": [
    "## The ```while``` loop\n",
    "\n",
    "In order to find the electric field, you will need to continue to perform certain calculations (steps 2-4 above) until you have done so for all the chunks. In python, we will often use the ```while``` loop to do such calculations. The ```while``` loop will perform a series of calculations in order until the loop condition is satisfied. Below is a simple example, which prints all the numbers from 0 to 10 in order."
   ]
  },
  {
   "cell_type": "code",
   "execution_count": null,
   "metadata": {},
   "outputs": [],
   "source": [
    "j = 0           ## Set the counter to 0\n",
    "\n",
    "while j < 11:   ## Run the commands in the loop until j=11 (i.e., print up to number 10)\n",
    "                ## Notice that the while loop ends with a colon\n",
    "    \n",
    "    print(j)    ## Print the value j; notice the commands in the while loop are idented over 4 spaces\n",
    "                ## Jupyter automatically does the indenting if you use the colon\n",
    "    \n",
    "    j = j + 1   ## Increment (increase) the counter by 1 unit"
   ]
  },
  {
   "cell_type": "markdown",
   "metadata": {},
   "source": [
    "The loop above prints the numbers 0 through 10. Each line in the ```while``` loop is executed in order until the loop condition ```while j < 11:``` is met (i.e., j becomes 11)."
   ]
  },
  {
   "cell_type": "markdown",
   "metadata": {},
   "source": [
    "# Problems to Solve\n",
    "## Determining the electric field of a charged rod numerically\n",
    "\n",
    "You have already calculated (by hand) an approximate value for the charged rod, which demonstrated the procedure of a numerical integral. Now you will use Python to extend that calculation to more chunks to investigate how many chunks are needed to get near the analytical solution. \n",
    "\n",
    "The code below starts the calculation but is missing an essential piece of the physics needed for the calculation. The code will be described in detail below."
   ]
  },
  {
   "cell_type": "markdown",
   "metadata": {},
   "source": [
    "### Importing division and vpython\n",
    "\n",
    "The two statements below import two libraries that you will use in this notebook. \n",
    "\n",
    "* The first line makes sure that \"floating point\" division occurs (this line is only needed for Python 2.7, but doesn't hurt Python 3.5). Basically, it makes sure that Python treats something like 3/2 as 1.5 and not 0!\n",
    "* The second line imports the visualization tools of [vpython](http://vpython.org), so you can create rods, spheres, arrows, and others things easily. VPython will be used a lot in this course as it will help us visualize the fields and interactions we are interested in."
   ]
  },
  {
   "cell_type": "code",
   "execution_count": 1,
   "metadata": {},
   "outputs": [
    {
     "data": {
      "application/javascript": [
       "require.undef(\"nbextensions/vpython_libraries/glow.min\");"
      ],
      "text/plain": [
       "<IPython.core.display.Javascript object>"
      ]
     },
     "metadata": {},
     "output_type": "display_data"
    },
    {
     "data": {
      "application/javascript": [
       "require.undef(\"nbextensions/vpython_libraries/glowcomm\");"
      ],
      "text/plain": [
       "<IPython.core.display.Javascript object>"
      ]
     },
     "metadata": {},
     "output_type": "display_data"
    },
    {
     "data": {
      "application/javascript": [
       "require.undef(\"nbextensions/vpython_libraries/jquery-ui.custom.min\");"
      ],
      "text/plain": [
       "<IPython.core.display.Javascript object>"
      ]
     },
     "metadata": {},
     "output_type": "display_data"
    },
    {
     "data": {
      "application/javascript": [
       "require([\"nbextensions/vpython_libraries/glow.min\"], function(){console.log(\"GLOW LOADED\");})"
      ],
      "text/plain": [
       "<IPython.core.display.Javascript object>"
      ]
     },
     "metadata": {},
     "output_type": "display_data"
    },
    {
     "data": {
      "application/javascript": [
       "require([\"nbextensions/vpython_libraries/glowcomm\"], function(){console.log(\"GLOWCOMM LOADED\");})"
      ],
      "text/plain": [
       "<IPython.core.display.Javascript object>"
      ]
     },
     "metadata": {},
     "output_type": "display_data"
    },
    {
     "data": {
      "application/javascript": [
       "require([\"nbextensions/vpython_libraries/jquery-ui.custom.min\"], function(){console.log(\"JQUERY LOADED\");})"
      ],
      "text/plain": [
       "<IPython.core.display.Javascript object>"
      ]
     },
     "metadata": {},
     "output_type": "display_data"
    },
    {
     "data": {
      "text/html": [
       "<div id=\"glowscript\" class=\"glowscript\"></div>"
      ],
      "text/plain": [
       "<IPython.core.display.HTML object>"
      ]
     },
     "metadata": {},
     "output_type": "display_data"
    },
    {
     "data": {
      "application/javascript": [
       "window.__context = { glowscript_container: $(\"#glowscript\").removeAttr(\"id\")}"
      ],
      "text/plain": [
       "<IPython.core.display.Javascript object>"
      ]
     },
     "metadata": {},
     "output_type": "display_data"
    }
   ],
   "source": [
    "from __future__ import division    ## Import floating point division\n",
    "from vpython import *              ## Import vpython for visualizations"
   ]
  },
  {
   "cell_type": "markdown",
   "metadata": {},
   "source": [
    "### Set up constants and parameters\n",
    "\n",
    "Numerically integrated problems are (typically) solved for a set of conditions; they are not often solved in the abstract (i.e., with a function that describes the solution for all possible scenarios). \n",
    "\n",
    "Below, we define $k=\\dfrac{1}{4\\pi\\varepsilon_0}$, the total charge of the rod, $Q$, and the length of the rod, $L$. In addition, the number of chunks, $N$, and the charge of each chunk $dq$ are also defined.\n",
    "\n",
    "The final defined quantity, ```EScale```, is a scale factor for redusing the size of the arrows that vpython produces so it can be seen reasonably well. After you get the code working, you can play with that scale factor to see its effect. "
   ]
  },
  {
   "cell_type": "code",
   "execution_count": 2,
   "metadata": {},
   "outputs": [],
   "source": [
    "k = 9e9           ## Permitivity of free space in SI units\n",
    "Q = 0.1e-6        ## Total charge distributed over the rod in Coulombs\n",
    "L = 1             ## Length of the rod in meters\n",
    "\n",
    "N = 4             ## Number of chunks the rod gets broken into\n",
    "dq = Q/N          ## Charge of a given chunk depends on the number of chunks\n",
    "\n",
    "EScale = 1e-4     ## Scale factor for visualizing arrows"
   ]
  },
  {
   "cell_type": "markdown",
   "metadata": {},
   "source": [
    "### Initialize the electric field & define observation location\n",
    "\n",
    "The calculation that we are doing is the discrete (numerical) form of:\n",
    "\n",
    "$$\\vec{E}(\\mathbf{r})=\\dfrac{1}{4\\pi\\varepsilon_0}\\int \\dfrac{dq}{|\\vec{\\mathfrak{r}}|^2}\\hat{\\mathfrak{r}}$$\n",
    "\n",
    "That is, we are doing a discrete sum over $N$ chunks,\n",
    "\n",
    "$$\\vec{E}(\\mathbf{r})\\approx\\sum_i^N d\\vec{E}_i= \\dfrac{1}{4\\pi\\varepsilon_0}\\sum_i^N \\dfrac{dq_i}{|\\vec{\\mathfrak{r}}_i|^2}\\hat{\\mathfrak{r}}_i$$\n",
    "\n",
    "To start this summation, we begin by initializing the net electric field to zero. This is a typical practice to ensure the numerical integral starts with the correct initial value as each contribution to the total field ($d\\vec{E}$) will be added to this initial value (numerical superposition of the field).\n",
    "\n",
    "Additionally, the observation location ($\\mathbf{r}$) is the same for every term in the sum, so we define that as well."
   ]
  },
  {
   "cell_type": "code",
   "execution_count": 3,
   "metadata": {},
   "outputs": [],
   "source": [
    "Enet = vector(0,0,0)      ## Initialize the electric field\n",
    "rObs = vector(0.1,0,0)    ## Set the observation location"
   ]
  },
  {
   "cell_type": "markdown",
   "metadata": {},
   "source": [
    "## Performing the integral\n",
    "\n",
    "The code below, when completed, will:\n",
    "\n",
    "* Draw the rod and place white spheres at the centers of the chunks (it already does this, try running it)\n",
    "* Perform the numerical integral (**your job for this problem**)\n",
    "* Draw yellow arrows to show the contribution of each chunk (uncomment the line starting with ```dEArrow``` once you get the numerical integral working)\n",
    "* Draw a white arrow to represent the net electric field at the observation location (it's already uncommented, but will show zero until you get the integration working).\n",
    "\n",
    "The first few lines of code set up the canvas (just the visual window) and place the rod at the location we decided on. For each execution of the ```while``` loop,\n",
    "\n",
    "* the source location is calculated (done for you),\n",
    "* a white sphere representing that little chunk is created at the source location (done for you),\n",
    "* the electric field contribution from that chunk is calculated (```dE```, **your job for this problem**),\n",
    "* a yellow arrow is created to represent that chunk's contribution to the total electric field (uncomment that line once ``dE`` is calculated properly), and\n",
    "* the chunk's contribution is added to the existing total field (**your job for this problem**)\n",
    "\n",
    "Below the code is annotated a bit more."
   ]
  },
  {
   "cell_type": "code",
   "execution_count": 11,
   "metadata": {},
   "outputs": [
    {
     "data": {
      "text/html": [
       "<div id=\"glowscript\" class=\"glowscript\"></div>"
      ],
      "text/plain": [
       "<IPython.core.display.HTML object>"
      ]
     },
     "metadata": {},
     "output_type": "display_data"
    },
    {
     "data": {
      "application/javascript": [
       "window.__context = { glowscript_container: $(\"#glowscript\").removeAttr(\"id\")}"
      ],
      "text/plain": [
       "<IPython.core.display.Javascript object>"
      ]
     },
     "metadata": {},
     "output_type": "display_data"
    },
    {
     "name": "stdout",
     "output_type": "stream",
     "text": [
      "The net electric field at point P =  <11740, 2.27374e-13, 0> N/C\n"
     ]
    }
   ],
   "source": [
    "## Creates the scene, which is just the visual window below\n",
    "scene=canvas(title=\"Electric Field Due to a Uniformly Charged Rod\")\n",
    "\n",
    "## Creates a rod positioned as defined in the problem\n",
    "rod = cylinder(pos=vector(0,-0.5,0), axis=vector(0,L,0), radius=0.01, color=color.red) \n",
    "\n",
    "## Initializes the counter\n",
    "i = 0\n",
    "## Intital the field to 0 for each run \n",
    "Enet = vector(0,0,0)  \n",
    "## Calculation loop that places N charges and (when completed) calculates the contribution of \n",
    "## each charge to the total electric field, adding that contribution to the total\n",
    "while i < N:\n",
    "    \n",
    "    ## Defines each source location as the center of the chunk\n",
    "    rSource = vector(0,L/2-(i+0.5)*L/N,0)\n",
    "    \n",
    "    ## Places a sphere at the source location to allow visualization of the chunks\n",
    "    sourceCharge = sphere(pos=vector(rSource), radius=0.02, color=color.white)\n",
    "    \n",
    "    ### Enter Your Physics Calculations Here for dE and Enet\n",
    "    r = rObs - rSource\n",
    "    dE = (k*dq/mag(r)**2)*(norm(r))\n",
    "    Enet += dE\n",
    "    \n",
    "    ## Uncomment this line once you have determined dE\n",
    "    dEArrow = arrow(pos=rObs, axis=EScale*dE, color=color.yellow)\n",
    "    \n",
    "    i+=1 ##Danny I love you but please just use +=\n",
    "    \n",
    "EnetArrow = arrow(pos=rObs, axis=EScale*Enet, color=color.white)\n",
    "print(\"The net electric field at point P = \",Enet, \"N/C\")"
   ]
  },
  {
   "cell_type": "code",
   "execution_count": 16,
   "metadata": {},
   "outputs": [
    {
     "ename": "KeyboardInterrupt",
     "evalue": "",
     "output_type": "error",
     "traceback": [
      "\u001b[1;31m---------------------------------------------------------------------------\u001b[0m",
      "\u001b[1;31mKeyboardInterrupt\u001b[0m                         Traceback (most recent call last)",
      "\u001b[1;32m<ipython-input-16-e775c7267708>\u001b[0m in \u001b[0;36m<module>\u001b[1;34m()\u001b[0m\n\u001b[0;32m     13\u001b[0m \u001b[1;33m\u001b[0m\u001b[0m\n\u001b[0;32m     14\u001b[0m         \u001b[1;31m## Defines each source location as the center of the chunk\u001b[0m\u001b[1;33m\u001b[0m\u001b[1;33m\u001b[0m\u001b[0m\n\u001b[1;32m---> 15\u001b[1;33m         \u001b[0mrSource\u001b[0m \u001b[1;33m=\u001b[0m \u001b[0mvector\u001b[0m\u001b[1;33m(\u001b[0m\u001b[1;36m0\u001b[0m\u001b[1;33m,\u001b[0m\u001b[0mL\u001b[0m\u001b[1;33m/\u001b[0m\u001b[1;36m2\u001b[0m\u001b[1;33m-\u001b[0m\u001b[1;33m(\u001b[0m\u001b[0mi\u001b[0m\u001b[1;33m+\u001b[0m\u001b[1;36m0.5\u001b[0m\u001b[1;33m)\u001b[0m\u001b[1;33m*\u001b[0m\u001b[0mL\u001b[0m\u001b[1;33m/\u001b[0m\u001b[0mN\u001b[0m\u001b[1;33m,\u001b[0m\u001b[1;36m0\u001b[0m\u001b[1;33m)\u001b[0m\u001b[1;33m\u001b[0m\u001b[0m\n\u001b[0m\u001b[0;32m     16\u001b[0m \u001b[1;33m\u001b[0m\u001b[0m\n\u001b[0;32m     17\u001b[0m         \u001b[0mr\u001b[0m \u001b[1;33m=\u001b[0m \u001b[0mrObs\u001b[0m \u001b[1;33m-\u001b[0m \u001b[0mrSource\u001b[0m\u001b[1;33m\u001b[0m\u001b[0m\n",
      "\u001b[1;31mKeyboardInterrupt\u001b[0m: "
     ]
    }
   ],
   "source": [
    "##Calculate known value based on given formula \n",
    "E_true_x = k * Q * (1/(.1*sqrt(.1**2+(L/2)**2)))\n",
    "E_true = vector(E_true_x,0,0)\n",
    "\n",
    "i = 0\n",
    "Enet = vector(0,0,0)  \n",
    "N = 4 \n",
    "error = 1000000000000000\n",
    "## Calculation loop that places N charges and (when completed) calculates the contribution of \n",
    "## each charge to the total electric field, adding that contribution to the total\n",
    "while error > .001:\n",
    "    while i < N:\n",
    "    \n",
    "        ## Defines each source location as the center of the chunk\n",
    "        rSource = vector(0,L/2-(i+0.5)*L/N,0)\n",
    "\n",
    "        r = rObs - rSource\n",
    "        dE = (k*dq/mag(r)**2)*(norm(r))\n",
    "        Enet += dE\n",
    "        i+=1\n",
    "    \n",
    "    error = abs(mag(Enet)-mag(E_true))/abs(mag(E_true))\n",
    "    N+=1\n",
    "    \n",
    "print(\"The net electric field at point P = \",Enet, \"N/C\")\n",
    "print(\"Iterations to .1\\% Error: \", N)\n",
    "\n",
    "i = 0\n",
    "Enet = vector(0,0,0)  \n",
    "N = 4 \n",
    "error = 1000000000000000\n",
    "## Calculation loop that places N charges and (when completed) calculates the contribution of \n",
    "## each charge to the total electric field, adding that contribution to the total\n",
    "while error > .000001:\n",
    "    while i < N:\n",
    "    \n",
    "        ## Defines each source location as the center of the chunk\n",
    "        rSource = vector(0,L/2-(i+0.5)*L/N,0)\n",
    "\n",
    "        r = rObs - rSource\n",
    "        dE = (k*dq/mag(r)**2)*(norm(r))\n",
    "        Enet += dE\n",
    "        i+=1\n",
    "    \n",
    "    error = abs(mag(Enet)-mag(E_true))/abs(mag(E_true))\n",
    "    N+=1\n",
    "    \n",
    "print(\"The net electric field at point P = \",Enet, \"N/C\")\n",
    "print(\"Iterations to 5 Sigma Error: \", N)\n",
    "\n",
    "##Accurate simulations are Incredibly computuationally expensive and not super practical. My little laptop cannot run this. "
   ]
  }
 ],
 "metadata": {
  "kernelspec": {
   "display_name": "Python 3",
   "language": "python",
   "name": "python3"
  },
  "language_info": {
   "codemirror_mode": {
    "name": "ipython",
    "version": 3
   },
   "file_extension": ".py",
   "mimetype": "text/x-python",
   "name": "python",
   "nbconvert_exporter": "python",
   "pygments_lexer": "ipython3",
   "version": "3.6.4"
  }
 },
 "nbformat": 4,
 "nbformat_minor": 1
}
