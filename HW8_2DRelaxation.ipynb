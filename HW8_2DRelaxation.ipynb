{
 "cells": [
  {
   "cell_type": "code",
   "execution_count": 1,
   "metadata": {},
   "outputs": [],
   "source": [
    "import numpy as np\n",
    "import matplotlib.pyplot as plt\n",
    "%matplotlib inline\n",
    "plt.style.use('seaborn-colorblind')"
   ]
  },
  {
   "cell_type": "code",
   "execution_count": 26,
   "metadata": {},
   "outputs": [],
   "source": [
    "def relax_dude(size, N, int_err, max_int):\n",
    "\n",
    "    m = np.zeros((size,size))\n",
    "    m[-1:]=10 \n",
    "    m_new = np.zeros((size,size))\n",
    "    m_new[-1:]=10 \n",
    "\n",
    "    Err = np.zeros_like(m)\n",
    "    mErr = 100 * int_err\n",
    "    inter = 0 \n",
    "    \n",
    "    while mErr > int_err:\n",
    "        for i in range(1,len(m[0])-1):\n",
    "            for j in range(1,len(m[0]-1)): \n",
    "                try:\n",
    "                    m_new[i][j]=.25*(m[i-1][j] + m[i][j-1] + m[i][j+1] + m[i+1][j])\n",
    "                    Err[i][j] = abs(m[i][j]-m_new[i][j])\n",
    "                except IndexError: \n",
    "                    pass\n",
    "                \n",
    "        mErr = np.average(Err)\n",
    "        m = m_new + np.zeros_like(m)\n",
    "        inter += 1\n",
    "        \n",
    "        if inter > max_int: \n",
    "            print(\"max interation \",max_int,\" reached\" )\n",
    "            return m_new\n",
    "        \n",
    "        return m_new   "
   ]
  },
  {
   "cell_type": "code",
   "execution_count": 30,
   "metadata": {},
   "outputs": [
    {
     "data": {
      "text/plain": [
       "array([[  0. ,   0. ,   0. , ...,   0. ,   0. ,   0. ],\n",
       "       [  0. ,   0. ,   0. , ...,   0. ,   0. ,   0. ],\n",
       "       [  0. ,   0. ,   0. , ...,   0. ,   0. ,   0. ],\n",
       "       ..., \n",
       "       [  0. ,   0. ,   0. , ...,   0. ,   0. ,   0. ],\n",
       "       [  0. ,   2.5,   2.5, ...,   2.5,   2.5,   0. ],\n",
       "       [ 10. ,  10. ,  10. , ...,  10. ,  10. ,  10. ]])"
      ]
     },
     "execution_count": 30,
     "metadata": {},
     "output_type": "execute_result"
    }
   ],
   "source": [
    "relax_dude(100,100,10**(-2),10000)"
   ]
  }
 ],
 "metadata": {
  "kernelspec": {
   "display_name": "Python [Root]",
   "language": "python",
   "name": "Python [Root]"
  },
  "language_info": {
   "codemirror_mode": {
    "name": "ipython",
    "version": 3
   },
   "file_extension": ".py",
   "mimetype": "text/x-python",
   "name": "python",
   "nbconvert_exporter": "python",
   "pygments_lexer": "ipython3",
   "version": "3.5.2"
  }
 },
 "nbformat": 4,
 "nbformat_minor": 2
}
