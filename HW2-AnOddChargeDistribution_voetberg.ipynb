{
 "cells": [
  {
   "cell_type": "markdown",
   "metadata": {},
   "source": [
    "# Numerically integrating functions of one variable\n",
    "\n",
    "In this problem, you will learn how to approximately determine the integral of a functions of a single variable using the trapezoidal rule and Simpson's rule. You will compare your results to the simplest built-in integrator from the ``scipy.integrate`` library, ``quad``. In this notebook, we have started by walking through the results of a computing numerically the integral of a function with known anti-derivative, but have left developing the Simpson alogorithm to you."
   ]
  },
  {
   "cell_type": "markdown",
   "metadata": {},
   "source": [
    "## Import all the libraries\n",
    "\n",
    "We will start by importing all the libarries and functions that we need. These can be called upon in any cell, but it's often useful to call them up in the first cell, so you know what's available. Also, to avoid conflicts in namespaces (i.e., functions and methods that appear in multiple libraries), we will use the ``as`` methods of importing libraries."
   ]
  },
  {
   "cell_type": "code",
   "execution_count": 47,
   "metadata": {},
   "outputs": [],
   "source": [
    "import sympy as sp                 ## Import symbolic python library\n",
    "import numpy as np                 ## Import basic scientific computing library\n",
    "import matplotlib.pyplot as plt    ## Import plotting library\n",
    "from scipy.integrate import quad   ## Import a specific integrator from scipy.intergrate library\n",
    "\n",
    "## Make sure our plots show up inline\n",
    "%matplotlib inline\n",
    "\n",
    "## Add some style to the printing of sympy functions and matplotlib plots\n",
    "sp.init_printing(use_unicode=False, wrap_line=False, no_global=True)\n",
    "plt.style.use('ggplot')"
   ]
  },
  {
   "cell_type": "markdown",
   "metadata": {},
   "source": [
    "## An example\n",
    "\n",
    "We will work with a function with a known anti-derivative,\n",
    "\n",
    "$$ g(x) = 10*e^{-x},$$\n",
    "\n",
    "which are planning to integrate from 0 to 10,\n",
    "\n",
    "$$I(0,10) = \\int_0^{10} 10*e^{-x} dx.$$\n",
    "\n",
    "If this all looks familar, please skip to the problem to solve below."
   ]
  },
  {
   "cell_type": "markdown",
   "metadata": {},
   "source": [
    "### Example: Plot this function\n",
    "\n",
    "First, we will get a sense of what the function looks like over the domain we care about."
   ]
  },
  {
   "cell_type": "code",
   "execution_count": 63,
   "metadata": {},
   "outputs": [
    {
     "data": {
      "text/plain": [
       "[<matplotlib.lines.Line2D at 0x22b3fb0b1d0>]"
      ]
     },
     "execution_count": 63,
     "metadata": {},
     "output_type": "execute_result"
    },
    {
     "data": {
      "image/png": "[encoded data removed]",
      "text/plain": [
       "<matplotlib.figure.Figure at 0x22b3f478160>"
      ]
     },
     "metadata": {},
     "output_type": "display_data"
    }
   ],
   "source": [
    "t = np.arange(0,10,0.01)\n",
    "g = 10*np.exp(-t)\n",
    "\n",
    "plt.figure(figsize=(12,6))\n",
    "plt.plot(t,g)"
   ]
  },
  {
   "cell_type": "markdown",
   "metadata": {},
   "source": [
    "### Example: Does it have a known anti-derivative?\n",
    "\n",
    "Next, we can use the ``sympy`` library to check if this function has a known anti-derivative, that is, can it be integated analytically? "
   ]
  },
  {
   "cell_type": "code",
   "execution_count": 49,
   "metadata": {},
   "outputs": [
    {
     "data": {
      "image/png": "[encoded data removed]",
      "text/latex": [
       "$$- 10 e^{- x}$$"
      ],
      "text/plain": [
       "     -x\n",
       "-10*e  "
      ]
     },
     "execution_count": 49,
     "metadata": {},
     "output_type": "execute_result"
    }
   ],
   "source": [
    "x=sp.Symbol('x')\n",
    "sp.integrate(10*sp.exp(-x),x)"
   ]
  },
  {
   "cell_type": "markdown",
   "metadata": {},
   "source": [
    "In this case, the function has a known anti-derivative, so numerically finding the integral from 0 to 10 is not necessary. We can simply use the antiderivative to evaluate it at the end points and compute the integral,\n",
    "\n",
    "$$I = -10*e^{-x}$$\n",
    "\n",
    "So that,\n",
    "\n",
    "$$I(0,10) = -10({e^{-10}-1}) \\approx 9.9995460007$$\n",
    "\n",
    "But let's see what happens when we numerically integrate it."
   ]
  },
  {
   "cell_type": "markdown",
   "metadata": {},
   "source": [
    "### Example: Define the function\n",
    "\n",
    "First, we define the function, so we can call it as we use our trapezoidal method"
   ]
  },
  {
   "cell_type": "code",
   "execution_count": 65,
   "metadata": {},
   "outputs": [],
   "source": [
    "def g(t):\n",
    "    return 10*np.exp(-t)"
   ]
  },
  {
   "cell_type": "markdown",
   "metadata": {},
   "source": [
    "### Example: Trapezoidal Approach\n",
    "Now we apply the trapezodial algorithm to this integral to determine the approximate value. Here, we are using 10 equally sized steps."
   ]
  },
  {
   "cell_type": "code",
   "execution_count": 51,
   "metadata": {},
   "outputs": [
    {
     "name": "stdout",
     "output_type": "stream",
     "text": [
      "10.819275852028298\n"
     ]
    }
   ],
   "source": [
    "N = 10\n",
    "a = 0\n",
    "b = 10\n",
    "h = (b-a)/N\n",
    "s = 0       # this just ensures we don't add more to it if we run it again!\n",
    "\n",
    "s = 0.5*g(a) + 0.5*g(b)\n",
    "for k in range(1,N):\n",
    "    s += g(a+k*h)\n",
    "    \n",
    "I = s*h\n",
    "print(I)"
   ]
  },
  {
   "cell_type": "markdown",
   "metadata": {},
   "source": [
    "Our approximate answer isn't great. It's off by about 8%. We can increase the number of steps to get better."
   ]
  },
  {
   "cell_type": "code",
   "execution_count": 52,
   "metadata": {},
   "outputs": [
    {
     "name": "stdout",
     "output_type": "stream",
     "text": [
      "10.007877567207714\n"
     ]
    }
   ],
   "source": [
    "N = 100\n",
    "a = 0\n",
    "b = 10\n",
    "h = (b-a)/N\n",
    "s = 0       # this just ensures we don't add more to it if we run it again!\n",
    "\n",
    "s = 0.5*g(a) + 0.5*g(b)\n",
    "for k in range(1,N):\n",
    "    s += g(a+k*h)\n",
    "    \n",
    "I = s*h\n",
    "print(I)"
   ]
  },
  {
   "cell_type": "markdown",
   "metadata": {},
   "source": [
    "With 10 times more steps, we are now off by only about 0.08%! But we can do even better with more steps."
   ]
  },
  {
   "cell_type": "code",
   "execution_count": 53,
   "metadata": {},
   "outputs": [
    {
     "name": "stdout",
     "output_type": "stream",
     "text": [
      "9.999629330113484\n"
     ]
    }
   ],
   "source": [
    "N = 1000\n",
    "a = 0\n",
    "b = 10\n",
    "h = (b-a)/N\n",
    "s = 0       # this just ensures we don't add more to it if we run it again!\n",
    "\n",
    "s = 0.5*g(a) + 0.5*g(b)\n",
    "for k in range(1,N):\n",
    "    s += g(a+k*h)\n",
    "    \n",
    "I = s*h\n",
    "print(I)"
   ]
  },
  {
   "cell_type": "markdown",
   "metadata": {},
   "source": [
    "### Example: Can we do even better?\n",
    "\n",
    "Now, we are only off by 0.0007%! We can keep doing this for a while, but at some point we are running too many iterations for the gain in precision. We will also run into the issue of machine precision, which is error inherent in the storing on numbers in a computer. \n",
    "\n",
    "There are better methods for numerical integration, which are inherently faster (fewer iterations for same or better precision) and/or adaptive to the problem (get you the best answer for your required precision). One of these is Gaussian quadrature, which the ``quad`` function performs. The first result is the integral result. What's the second one?"
   ]
  },
  {
   "cell_type": "code",
   "execution_count": 66,
   "metadata": {},
   "outputs": [
    {
     "name": "stdout",
     "output_type": "stream",
     "text": [
      "(9.999546000702377, 2.83275284251709e-13)\n"
     ]
    }
   ],
   "source": [
    "I = quad(g, 0, 10)\n",
    "print(I)"
   ]
  },
  {
   "cell_type": "markdown",
   "metadata": {},
   "source": [
    "## Problems to Solve\n",
    "\n",
    "Up till now, most of your experience with integration has likely been integrating functions that have anti-derivatives. While this is kind of integration is problematic when you have data that must be integrated (e.g., using measures of position to determine potential energy), we will focus on functions for which there are no anti-derivatives.\n",
    "\n",
    "Consider a line of charge that lives on the x-axis. It exists from $x=0$ to $x=3$, and distribution of that charge is given by,\n",
    "\n",
    "$$\\lambda(x) = 0.5e^{-x^2}.$$\n",
    "\n",
    "In this problem, you will work through this Jupyter notebook to determine the total charge one this line by performing the integral,\n",
    "\n",
    "$$Q = \\int_0^3 0.5e^{-x^2} dx.$$\n",
    "\n",
    "As you work through this problem, you will work through the following activities:\n",
    "\n",
    "1. Plot the distribution of charge. Does it look familiar to you in some way? Maybe you've seen it in other classes?\n",
    "2. Use ``sympy`` to compute the integral of the function (i.e., the total charge). What does it return? Discuss the function. Is it analytic?\n",
    "3. Apply the trapezoidal rule to compute the integral of this function. Use 10 equal width steps. To receive full credit, you must write the code to do this and not use built-in integration functions of ``scipy``.\n",
    "4. Apply Simpson's rule to compute the integral of this function. Again, use 10 equal with steps. Compare the result to part 3. To receive full credit, you must write the code to do this and not use built-in integration functions of ``scipy``.\n",
    "5. Compute both integrals with increasingly more steps (i.e., from 10 to 100) and plot the results. That is compare the plots of what your integration schemes produce on a figure where the number of steps in on the horizontal axes and the value of the integral is on the vertical.\n",
    "6. Look up ``scipy.integrate`` built-in quadrature function, ``quad.`` Use it to compute the same integral and compare its result to what your code produced. What are the two variables that ``quad`` gives you by default?\n",
    "7. Explain how the trapezoidal rule and Simpson's rule are different. How do the compute the integrals? Explain how the [Gaussian quadrature](https://en.wikipedia.org/wiki/Gaussian_quadrature), which is what ``quad`` and its cousins in the ``scipy.integrate`` library do, is different from both of them."
   ]
  },
  {
   "cell_type": "code",
   "execution_count": 67,
   "metadata": {},
   "outputs": [
    {
     "data": {
      "text/plain": [
       "[<matplotlib.lines.Line2D at 0x22b3f076f28>]"
      ]
     },
     "execution_count": 67,
     "metadata": {},
     "output_type": "execute_result"
    },
    {
     "data": {
      "image/png": "[encoded data removed]",
      "text/plain": [
       "<matplotlib.figure.Figure at 0x22b3f46e2e8>"
      ]
     },
     "metadata": {},
     "output_type": "display_data"
    }
   ],
   "source": [
    "##Plotting charge \n",
    "t = np.arange(0,3,0.01)\n",
    "f = 0.5*np.exp(-(t**2))\n",
    "\n",
    "plt.figure(figsize=(12,6))\n",
    "plt.title('Charge Distribution')\n",
    "plt.xlabel('x')\n",
    "plt.ylabel('f(x)')\n",
    "\n",
    "plt.plot(t,f)"
   ]
  },
  {
   "cell_type": "code",
   "execution_count": 39,
   "metadata": {},
   "outputs": [
    {
     "data": {
      "image/png": "[encoded data removed]",
      "text/latex": [
       "$$0.25 \\sqrt{\\pi} \\operatorname{erf}{\\left (x \\right )}$$"
      ],
      "text/plain": [
       "       ____       \n",
       "0.25*\\/ pi *erf(x)"
      ]
     },
     "execution_count": 39,
     "metadata": {},
     "output_type": "execute_result"
    }
   ],
   "source": [
    "##Integrating with sympy. Non-analytically, only gives general solution.\n",
    "##More work is required to find the numerial value of the integral from 0 to 3\n",
    "x=sp.Symbol('x')\n",
    "sp.integrate(0.5*sp.exp(-(x**2)),x)"
   ]
  },
  {
   "cell_type": "code",
   "execution_count": 68,
   "metadata": {},
   "outputs": [],
   "source": [
    "##Integrating using the trapezial method \n",
    "def f(t):\n",
    "    return 0.5*np.exp(-(t**2))"
   ]
  },
  {
   "cell_type": "code",
   "execution_count": 15,
   "metadata": {},
   "outputs": [
    {
     "name": "stdout",
     "output_type": "stream",
     "text": [
      "0.4431010168186999\n"
     ]
    }
   ],
   "source": [
    "##Looping over 10 steps\n",
    "N = 10\n",
    "a = 0\n",
    "b = 3\n",
    "h = (b-a)/N\n",
    "s = 0 \n",
    "\n",
    "s = 0.5*f(a) + 0.5*f(b)\n",
    "for k in range(1,N):\n",
    "    s += f(a+k*h)\n",
    "    \n",
    "I = s*h\n",
    "print(I)"
   ]
  },
  {
   "cell_type": "code",
   "execution_count": 24,
   "metadata": {},
   "outputs": [
    {
     "name": "stdout",
     "output_type": "stream",
     "text": [
      "0.442651699352608\n"
     ]
    }
   ],
   "source": [
    "##Integrating with Simpson's Rule \n",
    "N = 10\n",
    "a = 0 \n",
    "b = 3\n",
    "h = (b-a)/N\n",
    "s = 0 \n",
    "\n",
    "s = (h/3)*(f(a)+f(b))\n",
    "##Collecting odd terms\n",
    "s_o = 0 \n",
    "for k in range(1,N-1,2): \n",
    "    s_o += f(a+k*h)\n",
    "    \n",
    "##Collecting even terms \n",
    "s_e = 0 \n",
    "for k in range(2,N-2,2): \n",
    "    s_e +=f(a+k*h)\n",
    "    \n",
    "##Put it all together \n",
    "I = s + (h/3)*(4*s_o + 2*s_e)\n",
    "print(I)"
   ]
  },
  {
   "cell_type": "code",
   "execution_count": 30,
   "metadata": {},
   "outputs": [
    {
     "data": {
      "text/plain": [
       "[<matplotlib.lines.Line2D at 0x22b3fa7c048>]"
      ]
     },
     "execution_count": 30,
     "metadata": {},
     "output_type": "execute_result"
    },
    {
     "data": {
      "image/png": "[encoded data removed]",
      "text/plain": [
       "<matplotlib.figure.Figure at 0x22b3fa53128>"
      ]
     },
     "metadata": {},
     "output_type": "display_data"
    },
    {
     "data": {
      "image/png": "[encoded data removed]",
      "text/plain": [
       "<matplotlib.figure.Figure at 0x22b3fa733c8>"
      ]
     },
     "metadata": {},
     "output_type": "display_data"
    }
   ],
   "source": [
    "##Both with a lot of steps \n",
    "a = 0 \n",
    "b = 3\n",
    "\n",
    "##Trapizial (one day I will spell this right. Today is not that day.)\n",
    "s=0\n",
    "t_lst = []\n",
    "n_lst = []\n",
    "for N in range(10,101):\n",
    "    h=(b-a)/N\n",
    "    s=0\n",
    "    s = 0.5*f(a) + 0.5*f(b)\n",
    "    for k in range(1,N):\n",
    "        s += f(a+k*h)\n",
    "    \n",
    "    t_lst.append(s*h)\n",
    "    n_lst.append(N)\n",
    "    \n",
    "plt.figure(figsize=(12,6))\n",
    "plt.title('Trapiziadal Results')\n",
    "plt.xlabel('Steps')\n",
    "plt.ylabel('f(x)')\n",
    "\n",
    "plt.plot(n_lst,t_lst)\n",
    "\n",
    "##Simpson's Rule\n",
    "s=0\n",
    "s_lst = []\n",
    "for N in range(10,101):\n",
    "    h = (b-a)/N\n",
    "    s = 0 \n",
    "\n",
    "    s = (h/3)*(f(a)+f(b))\n",
    "    ##Collecting odd terms\n",
    "    s_o = 0 \n",
    "    for k in range(1,N-1,2): \n",
    "        s_o += f(a+k*h)\n",
    "    \n",
    "    ##Collecting even terms \n",
    "    s_e = 0 \n",
    "    for k in range(2,N-2,2): \n",
    "        s_e +=f(a+k*h)\n",
    "        \n",
    "    s_lst.append(s + (h/3)*(4*s_o + 2*s_e))\n",
    "    \n",
    "plt.figure(figsize=(12,6))\n",
    "plt.title('Simpson\\'s Rule Results')\n",
    "plt.xlabel('Steps')\n",
    "plt.ylabel('f(x)')\n",
    "\n",
    "plt.plot(n_lst,t_lst)  "
   ]
  },
  {
   "cell_type": "code",
   "execution_count": 69,
   "metadata": {},
   "outputs": [
    {
     "name": "stdout",
     "output_type": "stream",
     "text": [
      "(0.4431036741297607, 1.5884111866340027e-11)\n"
     ]
    }
   ],
   "source": [
    "I = quad(f, 0, 3)\n",
    "print(I)\n",
    "##Returns the value of the integral, and the error estimate"
   ]
  },
  {
   "cell_type": "markdown",
   "metadata": {},
   "source": [
    "The trapizoial method and Simpson's rule run on like principals. They both use summation of small areas under the curve to give results. The main difference is that the trapizoial method uses a straight line to approximate the curve, while Simpson's rule uses a quadratic functions to approximate the curvature of the function to be integrated. Gaussian quadrature, on the other hand, approximates the function by rewritting it to be $f(x)=(1-x)^{\\alpha}(1+x)^{\\beta}g(x)$, and using a wieghting function and this low degree polynomail to write the integral as $\\Sigma^{n}_{i=1}w_ig(x_i)$"
   ]
  }
 ],
 "metadata": {
  "kernelspec": {
   "display_name": "Python 3",
   "language": "python",
   "name": "python3"
  },
  "language_info": {
   "codemirror_mode": {
    "name": "ipython",
    "version": 3
   },
   "file_extension": ".py",
   "mimetype": "text/x-python",
   "name": "python",
   "nbconvert_exporter": "python",
   "pygments_lexer": "ipython3",
   "version": "3.6.4"
  }
 },
 "nbformat": 4,
 "nbformat_minor": 2
}
