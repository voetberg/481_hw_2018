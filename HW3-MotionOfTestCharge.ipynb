{
 "cells": [
  {
   "cell_type": "markdown",
   "metadata": {},
   "source": [
    "# Ring of charge - Motion of test charge\n",
    "\n",
    "## Modeling motion\n",
    "Sometimes, you will want to model the motion of a test charge in the presence of a given field. We can do this using by seperating our second-order differential equation into two first order differential equations. The differential equation that you obtained had the form:\n",
    "\n",
    "$$\\ddot{x} = f(x)$$\n",
    "\n",
    "Where $f$ if the acceleration, which depends on the position of the object. Using a ```while``` loop, we are unable to directly model the motion dictated by this differential equation directly. Instead, we must construct two first order equations, one for $x$ and one for $v$. This is a common practice for numerically solving differential equations:\n",
    "\n",
    "$$\\dot{v} = f(x)$$\n",
    "$$\\dot{x} = v$$\n",
    "\n",
    "Notice that the second differential equation is just the definition of velocity. We can rewrite the above equations in a \"iterative\" format that a computer will understand:\n",
    "\n",
    "$$v_f = v_i + f(x)*dt$$\n",
    "$$x_f = x_i + v_f*dt$$\n",
    "\n",
    "This technique is called [Euler-Cromer integration](https://en.wikipedia.org/wiki/Semi-implicit_Euler_method) and is one of the simplest form of numerical integration. Numerical integration techniques are widely varying in their speed and accuracy, but the Euler-Cromer method is a good first one to learn.\n",
    "\n",
    "## Problem to solve\n",
    "In this notebook, we have set up a simulation that begins to model the motion of a 1$\\mu C$ charge in the presence of a ring of charge (radius $1m$ and charge $1mC$). The test charge has a mass of $1g$. The simulation should use two models - 1. the full differential equation and 2. the approximate (linearized) differential equation. The code should output two graphs (position vs time for each solution) after the integration of both has completed.\n",
    "\n",
    "Part of this problem is for you to explain the output of each model and its assumptions. We also ask that you determine under what conditions the approximate model is a good one and explain how you know. Below, we have annotated the simulation."
   ]
  },
  {
   "cell_type": "markdown",
   "metadata": {},
   "source": [
    "### Import numerical and plotting libraries\n",
    "\n",
    "The lines below must look familiar now. First, we import ```numpy```, Python's numerical library and, then we import ```matplotlib.pyplot``` for plotting. The other two lines set up nice styles and make sure that plots occur inline and not as their own window."
   ]
  },
  {
   "cell_type": "code",
   "execution_count": 2,
   "metadata": {},
   "outputs": [],
   "source": [
    "import numpy as np                  ## Imports Python's numerical library\n",
    "import matplotlib.pyplot as plt     ## Imports matplotlib for plotting\n",
    "plt.style.use('fivethirtyeight')    ## Sets up pretty plots and python magic for inline plots\n",
    "%matplotlib inline "
   ]
  },
  {
   "cell_type": "markdown",
   "metadata": {},
   "source": [
    "### Setup model parameters\n",
    "\n",
    "Below the constants and model parameters are defined for the problem including $k=\\dfrac{1}{4\\pi\\varepsilon_0}$, the charge of the ring ($Q$), the radius of the ring ($a$), and the test charge's charge and mass ($q$ and $m$). We collect the constants that are common to both models into a constant $c=\\dfrac{kqQ}{m}$."
   ]
  },
  {
   "cell_type": "code",
   "execution_count": 3,
   "metadata": {},
   "outputs": [],
   "source": [
    "k = 9e9      ## 1 over 4 pi epsilon zero\n",
    "\n",
    "Q = 1e-3     ## Charge of ring\n",
    "a = 1        ## Radius of ring\n",
    "\n",
    "q = 1e-6     ## Charge of test charge \n",
    "m = 1e-3     ## Mass of test charge\n",
    "\n",
    "c = k*q*Q/m  ## Collecting all the constants"
   ]
  },
  {
   "cell_type": "markdown",
   "metadata": {},
   "source": [
    "### Set up time\n",
    "\n",
    "When numerically integrating a differential equation, we must define how large a time step to take each time the loop executes ($dt$) and for how long we intend to model the motion ($t$). Below, we define the time step to be $1ms$ and we model the motion for $0.1s$. \n",
    "\n",
    "You have seen the ```arange``` method before. In this simulation, it creates an array called ```time``` that has entries from 0 to 0.01 in steps of 0.001. This vector indicates how many total steps we will take: 100 steps."
   ]
  },
  {
   "cell_type": "code",
   "execution_count": 4,
   "metadata": {},
   "outputs": [],
   "source": [
    "dt=0.001\n",
    "time = np.arange(0,0.1,dt)"
   ]
  },
  {
   "cell_type": "markdown",
   "metadata": {},
   "source": [
    "### Set up variables to track acceleration, velocity, and position\n",
    "\n",
    "Because we are modeling the motion of the test charge, we want to keep track of its basic quantities of motion ($x$, $v$, and $a$). So we create variables (arrays) that will store each of these quantities for both the exact differential equation and the approximate one. These variables should have the same length as the time array. \n",
    "\n",
    "A common way to do this is to create arrays of the right length where all the entries are zero to begin with. This makes use of the ```zeros``` method from ```numpy```."
   ]
  },
  {
   "cell_type": "code",
   "execution_count": 5,
   "metadata": {},
   "outputs": [],
   "source": [
    "## Set up arrays for exact differential equation and set all entries to zero initially\n",
    "pos = np.zeros(len(time))\n",
    "vel = np.zeros(len(time))\n",
    "accel = np.zeros(len(time))\n",
    "\n",
    "## Set up arrays for approximate differential equation and set all entries to zero initially\n",
    "posapprox = np.zeros(len(time))\n",
    "velapprox = np.zeros(len(time))\n",
    "accelapprox = np.zeros(len(time))"
   ]
  },
  {
   "cell_type": "markdown",
   "metadata": {},
   "source": [
    "### Set initial conditions \n",
    "\n",
    "Any intial value problem requires that we set the starting values for the problem. In thise case, we have a differential equation of position, so we choose to set the initial position and initial velocity for each model. We want both models to solve the problem for the same initial conditions, so we set the position and veloicty for the exact model and then tell the approximate one to take those initial values also."
   ]
  },
  {
   "cell_type": "code",
   "execution_count": 6,
   "metadata": {},
   "outputs": [],
   "source": [
    "## Set the initial position and veloicty for the exact model\n",
    "pos[0] = 10\n",
    "vel[0] = 0\n",
    "\n",
    "## Tell the approximate model to start from the same conditions\n",
    "posapprox[0] = pos[0]\n",
    "velapprox[0] = vel[0]"
   ]
  },
  {
   "cell_type": "markdown",
   "metadata": {},
   "source": [
    "## Numerical integration loop\n",
    "Finally, we can numerically solve our differential equations. We will use a ```while``` loop that runs until the integration time has expired; that is it will run for 100 steps.\n",
    "\n",
    "For both models, the loop follows the Euler-Cromer integration procedure:\n",
    "1. Calculate the acceleration the particle experiences at the present moment\n",
    "2. Update the velocity with this acceleration information ($v_f = v_i + a*dt$)\n",
    "3. Update the position with this veloicty information ($x_f = x_i + v_f*dt$)\n",
    "4. Repeat 1-3 until time expires\n",
    "\n",
    "While these calculations are being done, the values of the acceleration, velocity, and position are being stored in the arrays to be plotted later."
   ]
  },
  {
   "cell_type": "code",
   "execution_count": 9,
   "metadata": {},
   "outputs": [],
   "source": [
    "i = 0   ## Set up the counter\n",
    "\n",
    "\n",
    "## Calculation loop\n",
    "while i < len(time)-1:\n",
    "    \n",
    "    ## Perform Euler-Cromer integation for the exact differential equation\n",
    "    accel[i] = c*pos[i-1]/((pos[i-1]**2+a**2))**(3/2)\n",
    "    vel[i] = vel[i-1]+accel[i]*dt\n",
    "    pos[i] = pos[i-1]+vel[i]*dt\n",
    "    \n",
    "\n",
    "    ## Perform Euler-Cromer integration for the approximate differential equation\n",
    "    accelapprox[i] = c*(pos[i-1]/a)*((3/2)*(pos[i-1]/a)**2+1)\n",
    "    velapprox[i] = velapprox[i-1]+accelapprox[i]*dt\n",
    "    posapprox[i] = posapprox[i-1]+posapprox[i]*dt\n",
    "\n",
    "    \n",
    "    ## Update the step\n",
    "    i += 1"
   ]
  }
 ],
 "metadata": {
  "kernelspec": {
   "display_name": "Python 3",
   "language": "python",
   "name": "python3"
  },
  "language_info": {
   "codemirror_mode": {
    "name": "ipython",
    "version": 3
   },
   "file_extension": ".py",
   "mimetype": "text/x-python",
   "name": "python",
   "nbconvert_exporter": "python",
   "pygments_lexer": "ipython3",
   "version": "3.6.4"
  }
 },
 "nbformat": 4,
 "nbformat_minor": 1
}
